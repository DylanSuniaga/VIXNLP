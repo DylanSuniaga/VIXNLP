{
 "cells": [
  {
   "cell_type": "code",
   "execution_count": 1,
   "metadata": {},
   "outputs": [
    {
     "name": "stderr",
     "output_type": "stream",
     "text": [
      "/Users/dsuniaga/Documents/GitHub/VIXNLP/.venv/lib/python3.13/site-packages/tqdm/auto.py:21: TqdmWarning: IProgress not found. Please update jupyter and ipywidgets. See https://ipywidgets.readthedocs.io/en/stable/user_install.html\n",
      "  from .autonotebook import tqdm as notebook_tqdm\n"
     ]
    }
   ],
   "source": [
    "import pandas as pd\n",
    "import numpy as np\n",
    "from transformers import pipeline\n",
    "import yfinance as yf\n",
    "import pandas as pd\n",
    "from datetime import datetime\n",
    "import matplotlib.pyplot as plt"
   ]
  },
  {
   "cell_type": "code",
   "execution_count": 100,
   "metadata": {},
   "outputs": [],
   "source": [
    "news_df = pd.read_csv('data/finnhub_news.csv')"
   ]
  },
  {
   "cell_type": "code",
   "execution_count": 103,
   "metadata": {},
   "outputs": [
    {
     "name": "stdout",
     "output_type": "stream",
     "text": [
      "        date symbol                                           headline  \\\n",
      "0 2024-10-30    BAC  These Are The Best Robinhood Stocks To Buy Or ...   \n",
      "1 2024-10-31    CAT  Analysts Have Conflicting Sentiments on These ...   \n",
      "2 2024-10-31    CAT  Caterpillar Q3 Miss Shows 'Just a Glimpse\" Int...   \n",
      "3 2024-10-31    CAT  Caterpillar Reports Mixed Q3 2024 Financial Re...   \n",
      "4 2024-10-31    CAT  Caterpillar Moves Up In Market Cap Rank, Passi...   \n",
      "\n",
      "                                             summary               source  \\\n",
      "0  These Are The Best Robinhood Stocks To Buy Or ...             DowJones   \n",
      "1  Looking for stock market analysis and research...             TipRanks   \n",
      "2  Caterpillar Q3 Miss Shows 'Just a Glimpse\" Int...                Yahoo   \n",
      "3  Caterpillar ( (CAT) ) has shared an announceme...                Yahoo   \n",
      "4  Looking for stock market analysis and research...  The Online Investor   \n",
      "\n",
      "                                                 url  summary_sentiment  \\\n",
      "0  https://finnhub.io/api/news?id=0d6328f6d2b87b9...           0.089523   \n",
      "1  https://finnhub.io/api/news?id=880a6015b53efe2...           0.091433   \n",
      "2  https://finnhub.io/api/news?id=d6647373f5d2728...           0.077423   \n",
      "3  https://finnhub.io/api/news?id=951cec0c1aa85ca...          -0.927010   \n",
      "4  https://finnhub.io/api/news?id=ac02f57c33da522...           0.091433   \n",
      "\n",
      "  sentiment_label  \n",
      "0         neutral  \n",
      "1         neutral  \n",
      "2         neutral  \n",
      "3        negative  \n",
      "4         neutral  \n",
      "           date symbol                                           headline  \\\n",
      "3597 2025-02-20   MSFT  Madison Sustainable Equity Fund Q4 2024 Invest...   \n",
      "3598 2025-02-20   MSFT  Madison Small Cap Fund Q4 2024 Investment Stra...   \n",
      "3599 2025-02-20   MSFT               Responsible Innovation in the AI Era   \n",
      "3600 2025-02-20    BAC  Bank of America Announces Redemption of CAD550...   \n",
      "3601 2025-02-20   AAPL  Tracking Ray Dalio's Bridgewater Associates 13...   \n",
      "\n",
      "                                                summary        source  \\\n",
      "3597  The S&P 500 ended 2024 with a 25% gain for the...  SeekingAlpha   \n",
      "3598  The fourth quarter closed out a successful yea...  SeekingAlpha   \n",
      "3599  Dean Carignan, AI Innovations Director at Micr...       Finnhub   \n",
      "3600  CHARLOTTE, N.C., Feb. 20, 2025 /PRNewswire/ --...       Finnhub   \n",
      "3601  Bridgewater Associates' Q3 moves: Portfolio va...  SeekingAlpha   \n",
      "\n",
      "                                                    url  summary_sentiment  \\\n",
      "3597  https://finnhub.io/api/news?id=03de51df45863f6...           0.875546   \n",
      "3598  https://finnhub.io/api/news?id=b937735c9711309...           0.952184   \n",
      "3599  https://finnhub.io/api/news?id=f91521e6242ebe0...           0.089369   \n",
      "3600  https://finnhub.io/api/news?id=4331eb2b285e2da...           0.093789   \n",
      "3601  https://finnhub.io/api/news?id=f3260216083646e...          -0.627926   \n",
      "\n",
      "     sentiment_label  \n",
      "3597        positive  \n",
      "3598        positive  \n",
      "3599         neutral  \n",
      "3600         neutral  \n",
      "3601        negative  \n"
     ]
    }
   ],
   "source": [
    "news_df['date'] = pd.to_datetime(news_df['date'])\n",
    "\n",
    "# Sort the DataFrame by date\n",
    "news_df_sorted = news_df.sort_values('date')\n",
    "\n",
    "# Reset the index after sorting (optional)\n",
    "news_df_sorted = news_df_sorted.reset_index(drop=True)\n",
    "\n",
    "# If you want to save back to CSV\n",
    "# news_df_sorted.to_csv('path/to/sorted_file.csv', index=False)\n",
    "\n",
    "# Display the first few rows to verify\n",
    "print(news_df_sorted.head())\n",
    "print(news_df_sorted.tail())"
   ]
  },
  {
   "cell_type": "code",
   "execution_count": 2,
   "metadata": {},
   "outputs": [
    {
     "name": "stderr",
     "output_type": "stream",
     "text": [
      "Device set to use mps:0\n"
     ]
    }
   ],
   "source": [
    "pipe = pipeline(\"text-classification\", model=\"ProsusAI/finbert\")"
   ]
  },
  {
   "cell_type": "code",
   "execution_count": 102,
   "metadata": {},
   "outputs": [],
   "source": [
    "# Convert summaries to list first, then process each with FinBERT\n",
    "summaries = news_df['summary'].fillna('').astype(str).tolist()\n",
    "\n",
    "# Create lists to store sentiment scores and labels\n",
    "sentiment_scores = []\n",
    "sentiment_labels = []\n",
    "\n",
    "# Process each summary individually\n",
    "for summary in summaries:\n",
    "    result = pipe.predict(summary)[0]\n",
    "    label = result['label']\n",
    "    score = result['score']\n",
    "    \n",
    "    # Store the label\n",
    "    sentiment_labels.append(label)\n",
    "    \n",
    "    # Calculate the modified score based on label\n",
    "    if label == 'positive':\n",
    "        sentiment_scores.append(score)\n",
    "    elif label == 'negative':\n",
    "        sentiment_scores.append(score * -1)\n",
    "    else:  # neutral\n",
    "        sentiment_scores.append(score / 10)\n",
    "\n",
    "# Add both the scores and labels to the DataFrame\n",
    "news_df['summary_sentiment'] = sentiment_scores\n",
    "news_df['sentiment_label'] = sentiment_labels"
   ]
  },
  {
   "cell_type": "code",
   "execution_count": 104,
   "metadata": {},
   "outputs": [],
   "source": [
    "# Convert headlines to list first, then process each with FinBERT\n",
    "headlines = news_df['headline'].fillna('').astype(str).tolist()\n",
    "\n",
    "# Create lists to store sentiment scores and labels\n",
    "headline_sentiment_scores = []\n",
    "headline_sentiment_labels = []\n",
    "\n",
    "# Process each headline individually\n",
    "for headline in headlines:\n",
    "    result = pipe.predict(headline)[0]\n",
    "    label = result['label']\n",
    "    score = result['score']\n",
    "    \n",
    "    # Store the label\n",
    "    headline_sentiment_labels.append(label)\n",
    "    \n",
    "    # Calculate the modified score based on label\n",
    "    if label == 'positive':\n",
    "        headline_sentiment_scores.append(score)\n",
    "    elif label == 'negative':\n",
    "        headline_sentiment_scores.append(score * -1)\n",
    "    else:  # neutral\n",
    "        headline_sentiment_scores.append(score / 10)\n",
    "\n",
    "# Add both the scores and labels to the DataFrame\n",
    "news_df['headline_sentiment'] = headline_sentiment_scores\n",
    "news_df['headline_sentiment_label'] = headline_sentiment_labels"
   ]
  },
  {
   "cell_type": "code",
   "execution_count": 3,
   "metadata": {},
   "outputs": [],
   "source": [
    "def analyze_sentiment(df, col_name, pipe, suffix=''):\n",
    "    \"\"\"\n",
    "    Analyze sentiment of text in a DataFrame column using FinBERT.\n",
    "    \n",
    "    Parameters:\n",
    "    -----------\n",
    "    df : pandas.DataFrame\n",
    "        DataFrame containing the text column to analyze\n",
    "    col_name : str\n",
    "        Name of the column containing text to analyze\n",
    "    pipe : pipeline\n",
    "        The FinBERT sentiment analysis pipeline\n",
    "    suffix : str, optional\n",
    "        Suffix to add to the new column names (default: '')\n",
    "        \n",
    "    Returns:\n",
    "    --------\n",
    "    pandas.DataFrame\n",
    "        DataFrame with added sentiment score and label columns\n",
    "    \"\"\"\n",
    "    # Create a copy of the DataFrame to avoid modifying the original\n",
    "    result_df = df.copy()\n",
    "    \n",
    "    # Convert column to list first, then praocess each with FinBERT\n",
    "    texts = result_df[col_name].fillna('').astype(str).tolist()\n",
    "    \n",
    "    # Create lists to store sentiment scores and labels\n",
    "    sentiment_scores = []\n",
    "    sentiment_labels = []\n",
    "    \n",
    "    # Process each text individually\n",
    "    for text in texts:\n",
    "        prediction = pipe.predict(text)[0]\n",
    "        label = prediction['label']\n",
    "        score = prediction['score']\n",
    "        \n",
    "        # Store the label\n",
    "        sentiment_labels.append(label)\n",
    "        \n",
    "        # Calculate the modified score based on label\n",
    "        if label == 'positive':\n",
    "            sentiment_scores.append(score)\n",
    "        elif label == 'negative':\n",
    "            sentiment_scores.append(score * -1)\n",
    "        else:  # neutral\n",
    "            sentiment_scores.append(score / 10)\n",
    "    \n",
    "    # Add both the scores and labels to the DataFrame\n",
    "    result_df[f'{col_name}_sentiment{suffix}'] = sentiment_scores\n",
    "    result_df[f'{col_name}_sentiment_label{suffix}'] = sentiment_labels\n",
    "    \n",
    "    return result_df"
   ]
  },
  {
   "cell_type": "code",
   "execution_count": 106,
   "metadata": {},
   "outputs": [
    {
     "data": {
      "text/plain": [
       "0      2025-02-20\n",
       "1      2025-02-20\n",
       "2      2025-02-20\n",
       "3      2025-02-20\n",
       "4      2025-02-20\n",
       "          ...    \n",
       "3597   2024-12-23\n",
       "3598   2024-12-23\n",
       "3599   2024-12-22\n",
       "3600   2024-12-22\n",
       "3601   2024-12-22\n",
       "Name: date, Length: 3602, dtype: datetime64[ns]"
      ]
     },
     "execution_count": 106,
     "metadata": {},
     "output_type": "execute_result"
    }
   ],
   "source": [
    "news_df['date']"
   ]
  },
  {
   "cell_type": "code",
   "execution_count": 108,
   "metadata": {},
   "outputs": [
    {
     "name": "stdout",
     "output_type": "stream",
     "text": [
      "Date value counts:\n",
      "date\n",
      "2025-02-05    194\n",
      "2025-02-19    181\n",
      "2025-02-10    169\n",
      "2025-02-18    161\n",
      "2025-02-14    159\n",
      "2025-02-13    155\n",
      "2025-02-11    144\n",
      "2025-02-20    141\n",
      "2025-02-07    139\n",
      "2025-01-15    136\n",
      "Name: count, dtype: int64\n",
      "\n",
      "Date column data type: datetime64[ns]\n",
      "Number of unique dates: 108\n",
      "Date range: 2024-10-30 00:00:00 to 2025-02-20 00:00:00\n",
      "\n",
      "After filtering:\n",
      "Number of rows: 3438\n",
      "Number of unique dates: 61\n",
      "Date range: 2024-12-22 00:00:00 to 2025-02-20 00:00:00\n",
      "\n",
      "Daily sentiment DataFrame:\n",
      "Shape: (61, 4)\n",
      "         date  avg_summary_sentiment  avg_headline_sentiment  \\\n",
      "0  2024-12-22              -0.045905                0.150820   \n",
      "1  2024-12-23               0.175204                0.122033   \n",
      "2  2024-12-24               0.269969                0.093486   \n",
      "3  2024-12-25               0.106459               -0.006229   \n",
      "4  2024-12-26               0.362945                0.230899   \n",
      "\n",
      "   avg_overall_sentiment  \n",
      "0               0.052458  \n",
      "1               0.148619  \n",
      "2               0.181727  \n",
      "3               0.050115  \n",
      "4               0.296922  \n"
     ]
    }
   ],
   "source": [
    "# First, let's examine the date distribution in the original DataFrame\n",
    "print(\"Date value counts:\")\n",
    "print(news_df['date'].value_counts().head(10))\n",
    "\n",
    "# Check data types and potential issues\n",
    "print(\"\\nDate column data type:\", news_df['date'].dtype)\n",
    "print(\"Number of unique dates:\", news_df['date'].nunique())\n",
    "print(\"Date range:\", news_df['date'].min(), \"to\", news_df['date'].max())\n",
    "\n",
    "# Ensure dates are in the correct format\n",
    "# Convert the date column to datetime if it's not already\n",
    "news_df['date'] = pd.to_datetime(news_df['date'])\n",
    "\n",
    "# Filter to our expected date range (2025-01-15 to 2025-02-20)\n",
    "filtered_news_df = news_df[\n",
    "    (news_df['date'] >= '2024-12-22') & \n",
    "    (news_df['date'] <= '2025-02-20')\n",
    "]\n",
    "\n",
    "print(\"\\nAfter filtering:\")\n",
    "print(\"Number of rows:\", len(filtered_news_df))\n",
    "print(\"Number of unique dates:\", filtered_news_df['date'].nunique())\n",
    "print(\"Date range:\", filtered_news_df['date'].min(), \"to\", filtered_news_df['date'].max())\n",
    "\n",
    "# Now create daily sentiment with the filtered data\n",
    "daily_sentiment_df = filtered_news_df.groupby(filtered_news_df['date'].dt.date).agg({\n",
    "    'summary_sentiment': 'mean',\n",
    "    'headline_sentiment': 'mean'\n",
    "}).reset_index()\n",
    "\n",
    "# Rename columns for clarity\n",
    "daily_sentiment_df = daily_sentiment_df.rename(columns={\n",
    "    'summary_sentiment': 'avg_summary_sentiment',\n",
    "    'headline_sentiment': 'avg_headline_sentiment'\n",
    "})\n",
    "\n",
    "# Calculate overall average sentiment\n",
    "daily_sentiment_df['avg_overall_sentiment'] = (\n",
    "    daily_sentiment_df['avg_summary_sentiment'] + \n",
    "    daily_sentiment_df['avg_headline_sentiment']\n",
    ") / 2\n",
    "\n",
    "print(\"\\nDaily sentiment DataFrame:\")\n",
    "print(\"Shape:\", daily_sentiment_df.shape)\n",
    "print(daily_sentiment_df.head())"
   ]
  },
  {
   "cell_type": "code",
   "execution_count": 109,
   "metadata": {},
   "outputs": [
    {
     "data": {
      "text/html": [
       "<div>\n",
       "<style scoped>\n",
       "    .dataframe tbody tr th:only-of-type {\n",
       "        vertical-align: middle;\n",
       "    }\n",
       "\n",
       "    .dataframe tbody tr th {\n",
       "        vertical-align: top;\n",
       "    }\n",
       "\n",
       "    .dataframe thead th {\n",
       "        text-align: right;\n",
       "    }\n",
       "</style>\n",
       "<table border=\"1\" class=\"dataframe\">\n",
       "  <thead>\n",
       "    <tr style=\"text-align: right;\">\n",
       "      <th></th>\n",
       "      <th>date</th>\n",
       "      <th>avg_summary_sentiment</th>\n",
       "      <th>avg_headline_sentiment</th>\n",
       "      <th>avg_overall_sentiment</th>\n",
       "    </tr>\n",
       "  </thead>\n",
       "  <tbody>\n",
       "    <tr>\n",
       "      <th>0</th>\n",
       "      <td>2024-12-22</td>\n",
       "      <td>-0.045905</td>\n",
       "      <td>0.150820</td>\n",
       "      <td>0.052458</td>\n",
       "    </tr>\n",
       "    <tr>\n",
       "      <th>1</th>\n",
       "      <td>2024-12-23</td>\n",
       "      <td>0.175204</td>\n",
       "      <td>0.122033</td>\n",
       "      <td>0.148619</td>\n",
       "    </tr>\n",
       "    <tr>\n",
       "      <th>2</th>\n",
       "      <td>2024-12-24</td>\n",
       "      <td>0.269969</td>\n",
       "      <td>0.093486</td>\n",
       "      <td>0.181727</td>\n",
       "    </tr>\n",
       "    <tr>\n",
       "      <th>3</th>\n",
       "      <td>2024-12-25</td>\n",
       "      <td>0.106459</td>\n",
       "      <td>-0.006229</td>\n",
       "      <td>0.050115</td>\n",
       "    </tr>\n",
       "    <tr>\n",
       "      <th>4</th>\n",
       "      <td>2024-12-26</td>\n",
       "      <td>0.362945</td>\n",
       "      <td>0.230899</td>\n",
       "      <td>0.296922</td>\n",
       "    </tr>\n",
       "    <tr>\n",
       "      <th>...</th>\n",
       "      <td>...</td>\n",
       "      <td>...</td>\n",
       "      <td>...</td>\n",
       "      <td>...</td>\n",
       "    </tr>\n",
       "    <tr>\n",
       "      <th>56</th>\n",
       "      <td>2025-02-16</td>\n",
       "      <td>0.341609</td>\n",
       "      <td>0.175258</td>\n",
       "      <td>0.258433</td>\n",
       "    </tr>\n",
       "    <tr>\n",
       "      <th>57</th>\n",
       "      <td>2025-02-17</td>\n",
       "      <td>-0.144072</td>\n",
       "      <td>0.069026</td>\n",
       "      <td>-0.037523</td>\n",
       "    </tr>\n",
       "    <tr>\n",
       "      <th>58</th>\n",
       "      <td>2025-02-18</td>\n",
       "      <td>-0.120998</td>\n",
       "      <td>0.135240</td>\n",
       "      <td>0.007121</td>\n",
       "    </tr>\n",
       "    <tr>\n",
       "      <th>59</th>\n",
       "      <td>2025-02-19</td>\n",
       "      <td>0.127132</td>\n",
       "      <td>0.101055</td>\n",
       "      <td>0.114094</td>\n",
       "    </tr>\n",
       "    <tr>\n",
       "      <th>60</th>\n",
       "      <td>2025-02-20</td>\n",
       "      <td>0.015631</td>\n",
       "      <td>-0.051058</td>\n",
       "      <td>-0.017713</td>\n",
       "    </tr>\n",
       "  </tbody>\n",
       "</table>\n",
       "<p>61 rows × 4 columns</p>\n",
       "</div>"
      ],
      "text/plain": [
       "          date  avg_summary_sentiment  avg_headline_sentiment  \\\n",
       "0   2024-12-22              -0.045905                0.150820   \n",
       "1   2024-12-23               0.175204                0.122033   \n",
       "2   2024-12-24               0.269969                0.093486   \n",
       "3   2024-12-25               0.106459               -0.006229   \n",
       "4   2024-12-26               0.362945                0.230899   \n",
       "..         ...                    ...                     ...   \n",
       "56  2025-02-16               0.341609                0.175258   \n",
       "57  2025-02-17              -0.144072                0.069026   \n",
       "58  2025-02-18              -0.120998                0.135240   \n",
       "59  2025-02-19               0.127132                0.101055   \n",
       "60  2025-02-20               0.015631               -0.051058   \n",
       "\n",
       "    avg_overall_sentiment  \n",
       "0                0.052458  \n",
       "1                0.148619  \n",
       "2                0.181727  \n",
       "3                0.050115  \n",
       "4                0.296922  \n",
       "..                    ...  \n",
       "56               0.258433  \n",
       "57              -0.037523  \n",
       "58               0.007121  \n",
       "59               0.114094  \n",
       "60              -0.017713  \n",
       "\n",
       "[61 rows x 4 columns]"
      ]
     },
     "execution_count": 109,
     "metadata": {},
     "output_type": "execute_result"
    }
   ],
   "source": [
    "daily_sentiment_df"
   ]
  },
  {
   "cell_type": "code",
   "execution_count": 21,
   "metadata": {},
   "outputs": [
    {
     "name": "stdout",
     "output_type": "stream",
     "text": [
      "YF.download() has changed argument auto_adjust default to True\n"
     ]
    },
    {
     "name": "stderr",
     "output_type": "stream",
     "text": [
      "[*********************100%***********************]  1 of 1 completed"
     ]
    },
    {
     "name": "stdout",
     "output_type": "stream",
     "text": [
      "Price         date      Close\n",
      "Ticker                   ^VIX\n",
      "0       2024-12-20  18.360001\n",
      "1       2024-12-23  16.780001\n",
      "2       2024-12-24  14.270000\n",
      "3       2024-12-26  14.730000\n",
      "4       2024-12-27  15.950000\n",
      "Price         date  Close\n",
      "Ticker               ^VIX\n",
      "35      2025-02-13  15.10\n",
      "36      2025-02-14  14.77\n",
      "37      2025-02-18  15.35\n",
      "38      2025-02-19  15.27\n",
      "39      2025-02-20  15.66\n"
     ]
    },
    {
     "name": "stderr",
     "output_type": "stream",
     "text": [
      "\n"
     ]
    }
   ],
   "source": [
    "start_date = \"2024-12-20\"\n",
    "end_date = \"2025-02-21\"\n",
    "\n",
    "# Download VIX data\n",
    "vix_data = yf.download(\"^VIX\", start=start_date, end=end_date)\n",
    "\n",
    "\n",
    "# Extract needed columns\n",
    "vix_df = vix_data[[\"Open\", \"High\", \"Low\", \"Close\", \"Volume\"]].copy()\n",
    "\n",
    "# Convert index to a date column and reset index\n",
    "vix_df[\"date\"] = vix_df.index.date\n",
    "vix_df = vix_df.reset_index(drop=True)\n",
    "\n",
    "# Reorder columns to have date first\n",
    "vix_df = vix_df[[\"date\", \"Open\", \"High\", \"Low\", \"Close\", \"Volume\"]]\n",
    "\n",
    "vix_df = vix_df[['date', 'Close']]\n",
    "print(vix_df.head())\n",
    "print(vix_df.tail())"
   ]
  },
  {
   "cell_type": "code",
   "execution_count": 22,
   "metadata": {},
   "outputs": [
    {
     "name": "stdout",
     "output_type": "stream",
     "text": [
      "['date_', 'Close_^VIX']\n"
     ]
    }
   ],
   "source": [
    "vix_df.columns = ['_'.join(col).strip() if isinstance(col, tuple) else col for col in vix_df.columns]\n",
    "\n",
    "print(vix_df.columns.tolist())\n"
   ]
  },
  {
   "cell_type": "code",
   "execution_count": 23,
   "metadata": {},
   "outputs": [],
   "source": [
    "vix_df = vix_df[[ 'date_', 'Close_^VIX']].copy()\n",
    "vix_df.columns = [ 'date', 'vix_close']\n"
   ]
  },
  {
   "cell_type": "code",
   "execution_count": 136,
   "metadata": {},
   "outputs": [
    {
     "name": "stdout",
     "output_type": "stream",
     "text": [
      "        date  avg_summary_sentiment  avg_headline_sentiment  \\\n",
      "0 2024-12-22              -0.045905                0.150820   \n",
      "1 2024-12-23               0.175204                0.122033   \n",
      "2 2024-12-24               0.269969                0.093486   \n",
      "3 2024-12-25               0.106459               -0.006229   \n",
      "4 2024-12-26               0.362945                0.230899   \n",
      "\n",
      "   avg_overall_sentiment  vix_target  \n",
      "0               0.052458   16.780001  \n",
      "1               0.148619   16.780001  \n",
      "2               0.181727   14.270000  \n",
      "3               0.050115   14.730000  \n",
      "4               0.296922   14.730000  \n",
      "         date  avg_summary_sentiment  avg_headline_sentiment  \\\n",
      "56 2025-02-16               0.341609                0.175258   \n",
      "57 2025-02-17              -0.144072                0.069026   \n",
      "58 2025-02-18              -0.120998                0.135240   \n",
      "59 2025-02-19               0.127132                0.101055   \n",
      "60 2025-02-20               0.015631               -0.051058   \n",
      "\n",
      "    avg_overall_sentiment  vix_target  \n",
      "56               0.258433       15.35  \n",
      "57              -0.037523       15.35  \n",
      "58               0.007121       15.35  \n",
      "59               0.114094       15.27  \n",
      "60              -0.017713       15.66  \n"
     ]
    }
   ],
   "source": [
    "# Ensure date columns are datetime format\n",
    "daily_sentiment_df['date'] = pd.to_datetime(daily_sentiment_df['date'])\n",
    "vix_df['date'] = pd.to_datetime(vix_df['date'])\n",
    "\n",
    "# Sort both dataframes by date\n",
    "daily_sentiment_df = daily_sentiment_df.sort_values('date')\n",
    "vix_df = vix_df.sort_values('date')\n",
    "\n",
    "# Use merge_asof with direction='forward' to match each sentiment row to the next VIX trading day\n",
    "merged_df = pd.merge_asof(\n",
    "    daily_sentiment_df,\n",
    "    vix_df,\n",
    "    on='date',\n",
    "    direction='forward'\n",
    ")\n",
    "\n",
    "# Rename vix_close to vix_target\n",
    "merged_df = merged_df.rename(columns={'vix_close': 'vix_target'})\n",
    "\n",
    "# Drop any rows with missing values\n",
    "merged_df = merged_df.dropna()\n",
    "\n",
    "# Display the first few rows\n",
    "print(merged_df.head())\n",
    "print(merged_df.tail())"
   ]
  },
  {
   "cell_type": "code",
   "execution_count": 137,
   "metadata": {},
   "outputs": [
    {
     "data": {
      "text/html": [
       "<div>\n",
       "<style scoped>\n",
       "    .dataframe tbody tr th:only-of-type {\n",
       "        vertical-align: middle;\n",
       "    }\n",
       "\n",
       "    .dataframe tbody tr th {\n",
       "        vertical-align: top;\n",
       "    }\n",
       "\n",
       "    .dataframe thead th {\n",
       "        text-align: right;\n",
       "    }\n",
       "</style>\n",
       "<table border=\"1\" class=\"dataframe\">\n",
       "  <thead>\n",
       "    <tr style=\"text-align: right;\">\n",
       "      <th></th>\n",
       "      <th>date</th>\n",
       "      <th>avg_summary_sentiment</th>\n",
       "      <th>avg_headline_sentiment</th>\n",
       "      <th>avg_overall_sentiment</th>\n",
       "      <th>vix_target</th>\n",
       "    </tr>\n",
       "  </thead>\n",
       "  <tbody>\n",
       "    <tr>\n",
       "      <th>date</th>\n",
       "      <td>1.000000</td>\n",
       "      <td>-0.208220</td>\n",
       "      <td>-0.136070</td>\n",
       "      <td>-0.203789</td>\n",
       "      <td>-0.257432</td>\n",
       "    </tr>\n",
       "    <tr>\n",
       "      <th>avg_summary_sentiment</th>\n",
       "      <td>-0.208220</td>\n",
       "      <td>1.000000</td>\n",
       "      <td>0.526866</td>\n",
       "      <td>0.920513</td>\n",
       "      <td>-0.089386</td>\n",
       "    </tr>\n",
       "    <tr>\n",
       "      <th>avg_headline_sentiment</th>\n",
       "      <td>-0.136070</td>\n",
       "      <td>0.526866</td>\n",
       "      <td>1.000000</td>\n",
       "      <td>0.817072</td>\n",
       "      <td>-0.090617</td>\n",
       "    </tr>\n",
       "    <tr>\n",
       "      <th>avg_overall_sentiment</th>\n",
       "      <td>-0.203789</td>\n",
       "      <td>0.920513</td>\n",
       "      <td>0.817072</td>\n",
       "      <td>1.000000</td>\n",
       "      <td>-0.102288</td>\n",
       "    </tr>\n",
       "    <tr>\n",
       "      <th>vix_target</th>\n",
       "      <td>-0.257432</td>\n",
       "      <td>-0.089386</td>\n",
       "      <td>-0.090617</td>\n",
       "      <td>-0.102288</td>\n",
       "      <td>1.000000</td>\n",
       "    </tr>\n",
       "  </tbody>\n",
       "</table>\n",
       "</div>"
      ],
      "text/plain": [
       "                            date  avg_summary_sentiment  \\\n",
       "date                    1.000000              -0.208220   \n",
       "avg_summary_sentiment  -0.208220               1.000000   \n",
       "avg_headline_sentiment -0.136070               0.526866   \n",
       "avg_overall_sentiment  -0.203789               0.920513   \n",
       "vix_target             -0.257432              -0.089386   \n",
       "\n",
       "                        avg_headline_sentiment  avg_overall_sentiment  \\\n",
       "date                                 -0.136070              -0.203789   \n",
       "avg_summary_sentiment                 0.526866               0.920513   \n",
       "avg_headline_sentiment                1.000000               0.817072   \n",
       "avg_overall_sentiment                 0.817072               1.000000   \n",
       "vix_target                           -0.090617              -0.102288   \n",
       "\n",
       "                        vix_target  \n",
       "date                     -0.257432  \n",
       "avg_summary_sentiment    -0.089386  \n",
       "avg_headline_sentiment   -0.090617  \n",
       "avg_overall_sentiment    -0.102288  \n",
       "vix_target                1.000000  "
      ]
     },
     "execution_count": 137,
     "metadata": {},
     "output_type": "execute_result"
    }
   ],
   "source": [
    "merged_df.corr()"
   ]
  },
  {
   "cell_type": "code",
   "execution_count": 138,
   "metadata": {},
   "outputs": [
    {
     "data": {
      "text/plain": [
       "<Axes: xlabel='date'>"
      ]
     },
     "execution_count": 138,
     "metadata": {},
     "output_type": "execute_result"
    },
    {
     "data": {
      "image/png": "[encoded data removed]",
      "text/plain": [
       "<Figure size 640x480 with 1 Axes>"
      ]
     },
     "metadata": {},
     "output_type": "display_data"
    }
   ],
   "source": [
    "merged_df.plot(x='date', y='avg_summary_sentiment', kind='line')"
   ]
  },
  {
   "cell_type": "code",
   "execution_count": 148,
   "metadata": {},
   "outputs": [
    {
     "data": {
      "text/plain": [
       "<matplotlib.collections.PathCollection at 0x370de4cd0>"
      ]
     },
     "execution_count": 148,
     "metadata": {},
     "output_type": "execute_result"
    },
    {
     "data": {
      "image/png": "[encoded data removed]",
      "text/plain": [
       "<Figure size 1000x600 with 1 Axes>"
      ]
     },
     "metadata": {},
     "output_type": "display_data"
    }
   ],
   "source": [
    "fig, ax = plt.subplots(figsize=(10, 6))\n",
    "ax.scatter(merged_df['avg_summary_sentiment'], merged_df['vix_target'])\n",
    "\n"
   ]
  },
  {
   "cell_type": "code",
   "execution_count": 4,
   "metadata": {},
   "outputs": [
    {
     "data": {
      "text/html": [
       "<div>\n",
       "<style scoped>\n",
       "    .dataframe tbody tr th:only-of-type {\n",
       "        vertical-align: middle;\n",
       "    }\n",
       "\n",
       "    .dataframe tbody tr th {\n",
       "        vertical-align: top;\n",
       "    }\n",
       "\n",
       "    .dataframe thead th {\n",
       "        text-align: right;\n",
       "    }\n",
       "</style>\n",
       "<table border=\"1\" class=\"dataframe\">\n",
       "  <thead>\n",
       "    <tr style=\"text-align: right;\">\n",
       "      <th></th>\n",
       "      <th>topic</th>\n",
       "      <th>title</th>\n",
       "      <th>description</th>\n",
       "      <th>source</th>\n",
       "      <th>date</th>\n",
       "    </tr>\n",
       "  </thead>\n",
       "  <tbody>\n",
       "    <tr>\n",
       "      <th>0</th>\n",
       "      <td>geopolitical tensions</td>\n",
       "      <td>Navigating the CapCut ban: Embracing Wondersha...</td>\n",
       "      <td>In recent months, the digital landscape has ex...</td>\n",
       "      <td>cyprus-mail</td>\n",
       "      <td>2025-03-21</td>\n",
       "    </tr>\n",
       "    <tr>\n",
       "      <th>1</th>\n",
       "      <td>geopolitical tensions</td>\n",
       "      <td>Starlink in Yemen: A digital revolution or a s...</td>\n",
       "      <td>Starlink brings high-speed internet to Yemen, ...</td>\n",
       "      <td>globalvoicesonline</td>\n",
       "      <td>2025-03-21</td>\n",
       "    </tr>\n",
       "    <tr>\n",
       "      <th>2</th>\n",
       "      <td>geopolitical tensions</td>\n",
       "      <td>Chile Leaves Interest Rate at 5%</td>\n",
       "      <td>The Central Bank of Chile, in its March sessio...</td>\n",
       "      <td>forextv</td>\n",
       "      <td>2025-03-23</td>\n",
       "    </tr>\n",
       "    <tr>\n",
       "      <th>3</th>\n",
       "      <td>geopolitical tensions</td>\n",
       "      <td>Italy’s talks with Musk’s Starlink have stalled</td>\n",
       "      <td>Italy’s talks with Musk’s Starlink have stalle...</td>\n",
       "      <td>di-ve</td>\n",
       "      <td>2025-03-24</td>\n",
       "    </tr>\n",
       "    <tr>\n",
       "      <th>4</th>\n",
       "      <td>geopolitical tensions</td>\n",
       "      <td>EU urges households to prepare emergency kits ...</td>\n",
       "      <td>As geopolitical tensions grow and climate thre...</td>\n",
       "      <td>euroweeklynews</td>\n",
       "      <td>2025-03-26</td>\n",
       "    </tr>\n",
       "  </tbody>\n",
       "</table>\n",
       "</div>"
      ],
      "text/plain": [
       "                   topic                                              title  \\\n",
       "0  geopolitical tensions  Navigating the CapCut ban: Embracing Wondersha...   \n",
       "1  geopolitical tensions  Starlink in Yemen: A digital revolution or a s...   \n",
       "2  geopolitical tensions                   Chile Leaves Interest Rate at 5%   \n",
       "3  geopolitical tensions    Italy’s talks with Musk’s Starlink have stalled   \n",
       "4  geopolitical tensions  EU urges households to prepare emergency kits ...   \n",
       "\n",
       "                                         description              source  \\\n",
       "0  In recent months, the digital landscape has ex...         cyprus-mail   \n",
       "1  Starlink brings high-speed internet to Yemen, ...  globalvoicesonline   \n",
       "2  The Central Bank of Chile, in its March sessio...             forextv   \n",
       "3  Italy’s talks with Musk’s Starlink have stalle...               di-ve   \n",
       "4  As geopolitical tensions grow and climate thre...      euroweeklynews   \n",
       "\n",
       "         date  \n",
       "0  2025-03-21  \n",
       "1  2025-03-21  \n",
       "2  2025-03-23  \n",
       "3  2025-03-24  \n",
       "4  2025-03-26  "
      ]
     },
     "execution_count": 4,
     "metadata": {},
     "output_type": "execute_result"
    }
   ],
   "source": [
    "macro_df = pd.read_csv('./../vix_news.csv')\n",
    "macro_df['date'] = pd.to_datetime(macro_df['published_at'])\n",
    "\n",
    "\n",
    "macro_df['date'] = macro_df['date'].dt.date\n",
    "\n",
    "macro_df.drop(columns=['published_at'], inplace=True)\n",
    "macro_df = macro_df.sort_values('date')\n",
    "macro_df = macro_df.reset_index(drop=True)\n",
    "macro_df.head()\n",
    "\n"
   ]
  },
  {
   "cell_type": "code",
   "execution_count": 5,
   "metadata": {},
   "outputs": [],
   "source": [
    "macro_df = analyze_sentiment(macro_df, 'description', pipe, '_macro')"
   ]
  },
  {
   "cell_type": "code",
   "execution_count": 6,
   "metadata": {},
   "outputs": [],
   "source": [
    "macro_df = analyze_sentiment(macro_df, 'title', pipe, '_macro')"
   ]
  },
  {
   "cell_type": "code",
   "execution_count": 7,
   "metadata": {},
   "outputs": [
    {
     "data": {
      "text/html": [
       "<div>\n",
       "<style scoped>\n",
       "    .dataframe tbody tr th:only-of-type {\n",
       "        vertical-align: middle;\n",
       "    }\n",
       "\n",
       "    .dataframe tbody tr th {\n",
       "        vertical-align: top;\n",
       "    }\n",
       "\n",
       "    .dataframe thead th {\n",
       "        text-align: right;\n",
       "    }\n",
       "</style>\n",
       "<table border=\"1\" class=\"dataframe\">\n",
       "  <thead>\n",
       "    <tr style=\"text-align: right;\">\n",
       "      <th></th>\n",
       "      <th>topic</th>\n",
       "      <th>title</th>\n",
       "      <th>description</th>\n",
       "      <th>source</th>\n",
       "      <th>date</th>\n",
       "      <th>description_sentiment_macro</th>\n",
       "      <th>description_sentiment_label_macro</th>\n",
       "      <th>title_sentiment_macro</th>\n",
       "      <th>title_sentiment_label_macro</th>\n",
       "    </tr>\n",
       "  </thead>\n",
       "  <tbody>\n",
       "    <tr>\n",
       "      <th>0</th>\n",
       "      <td>geopolitical tensions</td>\n",
       "      <td>Navigating the CapCut ban: Embracing Wondersha...</td>\n",
       "      <td>In recent months, the digital landscape has ex...</td>\n",
       "      <td>cyprus-mail</td>\n",
       "      <td>2025-03-21</td>\n",
       "      <td>-0.494532</td>\n",
       "      <td>negative</td>\n",
       "      <td>0.087493</td>\n",
       "      <td>neutral</td>\n",
       "    </tr>\n",
       "    <tr>\n",
       "      <th>1</th>\n",
       "      <td>geopolitical tensions</td>\n",
       "      <td>Starlink in Yemen: A digital revolution or a s...</td>\n",
       "      <td>Starlink brings high-speed internet to Yemen, ...</td>\n",
       "      <td>globalvoicesonline</td>\n",
       "      <td>2025-03-21</td>\n",
       "      <td>0.086038</td>\n",
       "      <td>neutral</td>\n",
       "      <td>0.090653</td>\n",
       "      <td>neutral</td>\n",
       "    </tr>\n",
       "    <tr>\n",
       "      <th>2</th>\n",
       "      <td>geopolitical tensions</td>\n",
       "      <td>Chile Leaves Interest Rate at 5%</td>\n",
       "      <td>The Central Bank of Chile, in its March sessio...</td>\n",
       "      <td>forextv</td>\n",
       "      <td>2025-03-23</td>\n",
       "      <td>-0.931157</td>\n",
       "      <td>negative</td>\n",
       "      <td>0.090591</td>\n",
       "      <td>neutral</td>\n",
       "    </tr>\n",
       "    <tr>\n",
       "      <th>3</th>\n",
       "      <td>geopolitical tensions</td>\n",
       "      <td>Italy’s talks with Musk’s Starlink have stalled</td>\n",
       "      <td>Italy’s talks with Musk’s Starlink have stalle...</td>\n",
       "      <td>di-ve</td>\n",
       "      <td>2025-03-24</td>\n",
       "      <td>-0.888789</td>\n",
       "      <td>negative</td>\n",
       "      <td>-0.569486</td>\n",
       "      <td>negative</td>\n",
       "    </tr>\n",
       "    <tr>\n",
       "      <th>4</th>\n",
       "      <td>geopolitical tensions</td>\n",
       "      <td>EU urges households to prepare emergency kits ...</td>\n",
       "      <td>As geopolitical tensions grow and climate thre...</td>\n",
       "      <td>euroweeklynews</td>\n",
       "      <td>2025-03-26</td>\n",
       "      <td>0.081078</td>\n",
       "      <td>neutral</td>\n",
       "      <td>0.558172</td>\n",
       "      <td>positive</td>\n",
       "    </tr>\n",
       "  </tbody>\n",
       "</table>\n",
       "</div>"
      ],
      "text/plain": [
       "                   topic                                              title  \\\n",
       "0  geopolitical tensions  Navigating the CapCut ban: Embracing Wondersha...   \n",
       "1  geopolitical tensions  Starlink in Yemen: A digital revolution or a s...   \n",
       "2  geopolitical tensions                   Chile Leaves Interest Rate at 5%   \n",
       "3  geopolitical tensions    Italy’s talks with Musk’s Starlink have stalled   \n",
       "4  geopolitical tensions  EU urges households to prepare emergency kits ...   \n",
       "\n",
       "                                         description              source  \\\n",
       "0  In recent months, the digital landscape has ex...         cyprus-mail   \n",
       "1  Starlink brings high-speed internet to Yemen, ...  globalvoicesonline   \n",
       "2  The Central Bank of Chile, in its March sessio...             forextv   \n",
       "3  Italy’s talks with Musk’s Starlink have stalle...               di-ve   \n",
       "4  As geopolitical tensions grow and climate thre...      euroweeklynews   \n",
       "\n",
       "         date  description_sentiment_macro description_sentiment_label_macro  \\\n",
       "0  2025-03-21                    -0.494532                          negative   \n",
       "1  2025-03-21                     0.086038                           neutral   \n",
       "2  2025-03-23                    -0.931157                          negative   \n",
       "3  2025-03-24                    -0.888789                          negative   \n",
       "4  2025-03-26                     0.081078                           neutral   \n",
       "\n",
       "   title_sentiment_macro title_sentiment_label_macro  \n",
       "0               0.087493                     neutral  \n",
       "1               0.090653                     neutral  \n",
       "2               0.090591                     neutral  \n",
       "3              -0.569486                    negative  \n",
       "4               0.558172                    positive  "
      ]
     },
     "execution_count": 7,
     "metadata": {},
     "output_type": "execute_result"
    }
   ],
   "source": [
    "macro_df.head()"
   ]
  },
  {
   "cell_type": "code",
   "execution_count": 9,
   "metadata": {},
   "outputs": [
    {
     "name": "stdout",
     "output_type": "stream",
     "text": [
      "\n",
      "Daily sentiment DataFrame:\n",
      "Shape: (11, 4)\n",
      "         date  avg_summary_sentiment  avg_headline_sentiment  \\\n",
      "0  2025-03-21              -0.204247                0.089073   \n",
      "1  2025-03-23              -0.931157                0.090591   \n",
      "2  2025-03-24              -0.888789               -0.569486   \n",
      "3  2025-03-26               0.081078                0.558172   \n",
      "4  2025-03-27               0.086102                0.084336   \n",
      "\n",
      "   avg_overall_sentiment  \n",
      "0              -0.057587  \n",
      "1              -0.420283  \n",
      "2              -0.729137  \n",
      "3               0.319625  \n",
      "4               0.085219  \n"
     ]
    }
   ],
   "source": [
    "macro_df['date'] = pd.to_datetime(macro_df['date'])\n",
    "\n",
    "macro_df = macro_df.groupby(macro_df['date'].dt.date).agg({\n",
    "    'description_sentiment_macro': 'mean',\n",
    "    'title_sentiment_macro': 'mean' #change to actual column names\n",
    "}).reset_index()\n",
    "\n",
    "# Rename columns for clarity\n",
    "macro_df = macro_df.rename(columns={\n",
    "    'description_sentiment_macro': 'avg_summary_sentiment',\n",
    "    'title_sentiment_macro': 'avg_headline_sentiment'\n",
    "})\n",
    "\n",
    "# Calculate overall average sentiment\n",
    "macro_df['avg_overall_sentiment'] = (\n",
    "    macro_df['avg_summary_sentiment'] + \n",
    "    macro_df['avg_headline_sentiment']\n",
    ") / 2\n",
    "\n",
    "print(\"\\nDaily sentiment DataFrame:\")\n",
    "print(\"Shape:\", macro_df.shape)\n",
    "print(macro_df.head())"
   ]
  },
  {
   "cell_type": "code",
   "execution_count": 10,
   "metadata": {},
   "outputs": [
    {
     "name": "stdout",
     "output_type": "stream",
     "text": [
      "YF.download() has changed argument auto_adjust default to True\n"
     ]
    },
    {
     "name": "stderr",
     "output_type": "stream",
     "text": [
      "[*********************100%***********************]  1 of 1 completed"
     ]
    },
    {
     "name": "stdout",
     "output_type": "stream",
     "text": [
      "Price         date      Close\n",
      "Ticker                   ^VIX\n",
      "0       2025-03-20  19.799999\n",
      "1       2025-03-21  19.280001\n",
      "2       2025-03-24  17.480000\n",
      "3       2025-03-25  17.150000\n",
      "4       2025-03-26  18.330000\n",
      "Price         date      Close\n",
      "Ticker                   ^VIX\n",
      "9       2025-04-02  21.510000\n",
      "10      2025-04-03  30.020000\n",
      "11      2025-04-04  45.310001\n",
      "12      2025-04-07  46.980000\n",
      "13      2025-04-08  52.330002\n",
      "['date_', 'Close_^VIX']\n"
     ]
    },
    {
     "name": "stderr",
     "output_type": "stream",
     "text": [
      "\n"
     ]
    }
   ],
   "source": [
    "start_date = \"2025-03-20\"\n",
    "end_date = \"2025-04-09\"\n",
    "\n",
    "# Download VIX data\n",
    "vix_data = yf.download(\"^VIX\", start=start_date, end=end_date)\n",
    "\n",
    "\n",
    "# Extract needed columns\n",
    "vix_df = vix_data[[\"Open\", \"High\", \"Low\", \"Close\", \"Volume\"]].copy()\n",
    "\n",
    "# Convert index to a date column and reset index\n",
    "vix_df[\"date\"] = vix_df.index.date\n",
    "vix_df = vix_df.reset_index(drop=True)\n",
    "\n",
    "# Reorder columns to have date first\n",
    "vix_df = vix_df[[\"date\", \"Open\", \"High\", \"Low\", \"Close\", \"Volume\"]]\n",
    "\n",
    "vix_df = vix_df[['date', 'Close']]\n",
    "print(vix_df.head())\n",
    "print(vix_df.tail())\n",
    "\n",
    "vix_df.columns = ['_'.join(col).strip() if isinstance(col, tuple) else col for col in vix_df.columns]\n",
    "\n",
    "print(vix_df.columns.tolist())\n",
    "vix_df = vix_df[[ 'date_', 'Close_^VIX']].copy()\n",
    "vix_df.columns = [ 'date', 'vix_close']\n"
   ]
  },
  {
   "cell_type": "code",
   "execution_count": 11,
   "metadata": {},
   "outputs": [
    {
     "name": "stdout",
     "output_type": "stream",
     "text": [
      "        date  avg_summary_sentiment  avg_headline_sentiment  \\\n",
      "0 2025-03-21              -0.204247                0.089073   \n",
      "1 2025-03-23              -0.931157                0.090591   \n",
      "2 2025-03-24              -0.888789               -0.569486   \n",
      "3 2025-03-26               0.081078                0.558172   \n",
      "4 2025-03-27               0.086102                0.084336   \n",
      "\n",
      "   avg_overall_sentiment  vix_target  \n",
      "0              -0.057587   19.280001  \n",
      "1              -0.420283   17.480000  \n",
      "2              -0.729137   17.480000  \n",
      "3               0.319625   18.330000  \n",
      "4               0.085219   18.690001  \n",
      "        date  avg_summary_sentiment  avg_headline_sentiment  \\\n",
      "5 2025-04-03               0.088483               -0.124056   \n",
      "6 2025-04-04              -0.257116               -0.183014   \n",
      "7 2025-04-06               0.876540                0.077505   \n",
      "8 2025-04-07              -0.490127               -0.302806   \n",
      "9 2025-04-08              -0.278500                0.161379   \n",
      "\n",
      "   avg_overall_sentiment  vix_target  \n",
      "5              -0.017787   30.020000  \n",
      "6              -0.220065   45.310001  \n",
      "7               0.477022   46.980000  \n",
      "8              -0.396466   46.980000  \n",
      "9              -0.058561   52.330002  \n"
     ]
    }
   ],
   "source": [
    "macro_df['date'] = pd.to_datetime(macro_df['date'])\n",
    "vix_df['date'] = pd.to_datetime(vix_df['date'])\n",
    "\n",
    "# Sort both dataframes by date\n",
    "macro_df = macro_df.sort_values('date')\n",
    "vix_df = vix_df.sort_values('date')\n",
    "\n",
    "# Use merge_asof with direction='forward' to match each sentiment row to the next VIX trading day\n",
    "merged_df = pd.merge_asof(\n",
    "    macro_df,\n",
    "    vix_df,\n",
    "    on='date',\n",
    "    direction='forward'\n",
    ")\n",
    "\n",
    "# Rename vix_close to vix_target\n",
    "merged_df = merged_df.rename(columns={'vix_close': 'vix_target'})\n",
    "\n",
    "# Drop any rows with missing values\n",
    "merged_df = merged_df.dropna()\n",
    "\n",
    "# Display the first few rows\n",
    "print(merged_df.head())\n",
    "print(merged_df.tail())"
   ]
  },
  {
   "cell_type": "code",
   "execution_count": 12,
   "metadata": {},
   "outputs": [
    {
     "data": {
      "text/plain": [
       "<Axes: >"
      ]
     },
     "execution_count": 12,
     "metadata": {},
     "output_type": "execute_result"
    },
    {
     "data": {
      "image/png": "[encoded data removed]",
      "text/plain": [
       "<Figure size 640x480 with 1 Axes>"
      ]
     },
     "metadata": {},
     "output_type": "display_data"
    }
   ],
   "source": [
    "merged_df['vix_target'].plot()"
   ]
  },
  {
   "cell_type": "code",
   "execution_count": 14,
   "metadata": {},
   "outputs": [
    {
     "data": {
      "text/html": [
       "<div>\n",
       "<style scoped>\n",
       "    .dataframe tbody tr th:only-of-type {\n",
       "        vertical-align: middle;\n",
       "    }\n",
       "\n",
       "    .dataframe tbody tr th {\n",
       "        vertical-align: top;\n",
       "    }\n",
       "\n",
       "    .dataframe thead th {\n",
       "        text-align: right;\n",
       "    }\n",
       "</style>\n",
       "<table border=\"1\" class=\"dataframe\">\n",
       "  <thead>\n",
       "    <tr style=\"text-align: right;\">\n",
       "      <th></th>\n",
       "      <th>date</th>\n",
       "      <th>avg_summary_sentiment</th>\n",
       "      <th>avg_headline_sentiment</th>\n",
       "      <th>avg_overall_sentiment</th>\n",
       "      <th>vix_target</th>\n",
       "    </tr>\n",
       "  </thead>\n",
       "  <tbody>\n",
       "    <tr>\n",
       "      <th>date</th>\n",
       "      <td>1.000000</td>\n",
       "      <td>0.387977</td>\n",
       "      <td>-0.122310</td>\n",
       "      <td>0.233904</td>\n",
       "      <td>0.944462</td>\n",
       "    </tr>\n",
       "    <tr>\n",
       "      <th>avg_summary_sentiment</th>\n",
       "      <td>0.387977</td>\n",
       "      <td>1.000000</td>\n",
       "      <td>0.444396</td>\n",
       "      <td>0.925028</td>\n",
       "      <td>0.310993</td>\n",
       "    </tr>\n",
       "    <tr>\n",
       "      <th>avg_headline_sentiment</th>\n",
       "      <td>-0.122310</td>\n",
       "      <td>0.444396</td>\n",
       "      <td>1.000000</td>\n",
       "      <td>0.751404</td>\n",
       "      <td>-0.130548</td>\n",
       "    </tr>\n",
       "    <tr>\n",
       "      <th>avg_overall_sentiment</th>\n",
       "      <td>0.233904</td>\n",
       "      <td>0.925028</td>\n",
       "      <td>0.751404</td>\n",
       "      <td>1.000000</td>\n",
       "      <td>0.173706</td>\n",
       "    </tr>\n",
       "    <tr>\n",
       "      <th>vix_target</th>\n",
       "      <td>0.944462</td>\n",
       "      <td>0.310993</td>\n",
       "      <td>-0.130548</td>\n",
       "      <td>0.173706</td>\n",
       "      <td>1.000000</td>\n",
       "    </tr>\n",
       "  </tbody>\n",
       "</table>\n",
       "</div>"
      ],
      "text/plain": [
       "                            date  avg_summary_sentiment  \\\n",
       "date                    1.000000               0.387977   \n",
       "avg_summary_sentiment   0.387977               1.000000   \n",
       "avg_headline_sentiment -0.122310               0.444396   \n",
       "avg_overall_sentiment   0.233904               0.925028   \n",
       "vix_target              0.944462               0.310993   \n",
       "\n",
       "                        avg_headline_sentiment  avg_overall_sentiment  \\\n",
       "date                                 -0.122310               0.233904   \n",
       "avg_summary_sentiment                 0.444396               0.925028   \n",
       "avg_headline_sentiment                1.000000               0.751404   \n",
       "avg_overall_sentiment                 0.751404               1.000000   \n",
       "vix_target                           -0.130548               0.173706   \n",
       "\n",
       "                        vix_target  \n",
       "date                      0.944462  \n",
       "avg_summary_sentiment     0.310993  \n",
       "avg_headline_sentiment   -0.130548  \n",
       "avg_overall_sentiment     0.173706  \n",
       "vix_target                1.000000  "
      ]
     },
     "execution_count": 14,
     "metadata": {},
     "output_type": "execute_result"
    }
   ],
   "source": [
    "merged_df.corr()"
   ]
  },
  {
   "cell_type": "code",
   "execution_count": 51,
   "metadata": {},
   "outputs": [
    {
     "name": "stdout",
     "output_type": "stream",
     "text": [
      "['__builtins__', '__cached__', '__doc__', '__file__', '__loader__', '__name__', '__package__', '__spec__', 'calculate_mean_sentiment', 'calculate_sentiment', 'datetime', 'download_vix_data', 'load_data', 'load_macro_df', 'merge_dataframes', 'np', 'pd', 'pipe', 'pipeline', 'sort_by_date', 'yf']\n"
     ]
    }
   ],
   "source": [
    "import sys\n",
    "import os\n",
    "sys.path.insert(0, os.getcwd())\n",
    "# Try simple import\n",
    "import data_prep\n",
    "print(dir(data_prep))\n"
   ]
  },
  {
   "cell_type": "code",
   "execution_count": 44,
   "metadata": {},
   "outputs": [
    {
     "ename": "AttributeError",
     "evalue": "module 'data_prep' has no attribute 'macro_analysis'",
     "output_type": "error",
     "traceback": [
      "\u001b[31m---------------------------------------------------------------------------\u001b[39m",
      "\u001b[31mAttributeError\u001b[39m                            Traceback (most recent call last)",
      "\u001b[36mCell\u001b[39m\u001b[36m \u001b[39m\u001b[32mIn[44]\u001b[39m\u001b[32m, line 1\u001b[39m\n\u001b[32m----> \u001b[39m\u001b[32m1\u001b[39m \u001b[43mdp\u001b[49m\u001b[43m.\u001b[49m\u001b[43mmacro_analysis\u001b[49m(\u001b[33m'\u001b[39m\u001b[33m./../vix_news.csv\u001b[39m\u001b[33m'\u001b[39m, \u001b[33m'\u001b[39m\u001b[33mdescription\u001b[39m\u001b[33m'\u001b[39m, \u001b[33m'\u001b[39m\u001b[33mtitle\u001b[39m\u001b[33m'\u001b[39m)\n",
      "\u001b[31mAttributeError\u001b[39m: module 'data_prep' has no attribute 'macro_analysis'"
     ]
    }
   ],
   "source": [
    "dp.macro_analysis('./../vix_news.csv', 'description', 'title')"
   ]
  },
  {
   "cell_type": "code",
   "execution_count": 46,
   "metadata": {},
   "outputs": [
    {
     "name": "stdout",
     "output_type": "stream",
     "text": [
      "/Users/dsuniaga/Documents/GitHub/VIXNLP/finnhub_news\n"
     ]
    }
   ],
   "source": [
    "import os\n",
    "print(os.getcwd())"
   ]
  },
  {
   "cell_type": "code",
   "execution_count": null,
   "metadata": {},
   "outputs": [],
   "source": []
  }
 ],
 "metadata": {
  "kernelspec": {
   "display_name": ".venv",
   "language": "python",
   "name": "python3"
  },
  "language_info": {
   "codemirror_mode": {
    "name": "ipython",
    "version": 3
   },
   "file_extension": ".py",
   "mimetype": "text/x-python",
   "name": "python",
   "nbconvert_exporter": "python",
   "pygments_lexer": "ipython3",
   "version": "3.13.2"
  }
 },
 "nbformat": 4,
 "nbformat_minor": 2
}
