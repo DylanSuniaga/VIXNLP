{
 "cells": [
  {
   "cell_type": "code",
   "execution_count": 2,
   "metadata": {},
   "outputs": [],
   "source": [
    "import mediastack_news"
   ]
  },
  {
   "cell_type": "code",
   "execution_count": 3,
   "metadata": {},
   "outputs": [
    {
     "name": "stdout",
     "output_type": "stream",
     "text": [
      "Fetching up to 20 news articles about 'war'...\n",
      "Found 20 articles for topic 'war'.\n",
      "Fetching up to 20 news articles about 'recession'...\n",
      "Found 20 articles for topic 'recession'.\n",
      "Fetching up to 20 news articles about 'taxes'...\n",
      "Found 20 articles for topic 'taxes'.\n",
      "Fetching up to 20 news articles about 'monetary policy'...\n",
      "Found 20 articles for topic 'monetary policy'.\n",
      "Fetching up to 20 news articles about 'geopolitical tensions'...\n",
      "Found 20 articles for topic 'geopolitical tensions'.\n",
      "Fetching up to 20 news articles about 'inflation'...\n",
      "Found 20 articles for topic 'inflation'.\n",
      "Fetching up to 20 news articles about 'global trade disputes'...\n",
      "Found 0 articles for topic 'global trade disputes'.\n",
      "No articles found for topic 'global trade disputes' or API request failed.\n",
      "Fetching up to 20 news articles about 'natural disasters'...\n",
      "Found 20 articles for topic 'natural disasters'.\n",
      "Fetching up to 20 news articles about 'interest rates'...\n",
      "Found 20 articles for topic 'interest rates'.\n",
      "Fetching up to 20 news articles about 'federal reserve'...\n",
      "Found 20 articles for topic 'federal reserve'.\n",
      "Data successfully saved to vix_news.csv\n",
      "Total articles saved: 180\n"
     ]
    }
   ],
   "source": [
    "downloader = mediastack_news.main()"
   ]
  },
  {
   "cell_type": "code",
   "execution_count": null,
   "metadata": {},
   "outputs": [],
   "source": []
  }
 ],
 "metadata": {
  "kernelspec": {
   "display_name": ".venv",
   "language": "python",
   "name": "python3"
  },
  "language_info": {
   "codemirror_mode": {
    "name": "ipython",
    "version": 3
   },
   "file_extension": ".py",
   "mimetype": "text/x-python",
   "name": "python",
   "nbconvert_exporter": "python",
   "pygments_lexer": "ipython3",
   "version": "3.13.2"
  }
 },
 "nbformat": 4,
 "nbformat_minor": 2
}
