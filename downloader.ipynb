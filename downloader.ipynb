{
 "cells": [
  {
   "cell_type": "code",
   "execution_count": 1,
   "metadata": {},
   "outputs": [
    {
     "name": "stdout",
     "output_type": "stream",
     "text": [
      "Note: python-dotenv is not installed. Using environment variables directly.\n",
      "To install: pip install python-dotenv\n"
     ]
    }
   ],
   "source": [
    "import mediastack_news"
   ]
  },
  {
   "cell_type": "code",
   "execution_count": 2,
   "metadata": {},
   "outputs": [
    {
     "name": "stdout",
     "output_type": "stream",
     "text": [
      "Splitting date range into 1 chunks for optimization\n",
      "Processing date range 2025-04-09 to 2025-04-17 for topic 'war'\n",
      "Fetching up to 100 news articles about 'war' for date 2025-04-09,2025-04-17...\n",
      "Found 100 articles for topic 'war' for date 2025-04-09,2025-04-17. Total available: 1361\n",
      "Fetching up to 100 news articles about 'war' for date 2025-04-09,2025-04-17...\n",
      "Found 100 articles for topic 'war' for date 2025-04-09,2025-04-17. Total available: 1361\n",
      "Fetching up to 100 news articles about 'war' for date 2025-04-09,2025-04-17...\n",
      "Found 100 articles for topic 'war' for date 2025-04-09,2025-04-17. Total available: 1361\n",
      "Fetching up to 100 news articles about 'war' for date 2025-04-09,2025-04-17...\n",
      "Found 100 articles for topic 'war' for date 2025-04-09,2025-04-17. Total available: 1361\n",
      "Fetching up to 100 news articles about 'war' for date 2025-04-09,2025-04-17...\n",
      "Found 100 articles for topic 'war' for date 2025-04-09,2025-04-17. Total available: 1361\n",
      "Fetching up to 100 news articles about 'war' for date 2025-04-09,2025-04-17...\n",
      "Found 100 articles for topic 'war' for date 2025-04-09,2025-04-17. Total available: 1361\n",
      "Fetching up to 100 news articles about 'war' for date 2025-04-09,2025-04-17...\n",
      "Found 100 articles for topic 'war' for date 2025-04-09,2025-04-17. Total available: 1361\n",
      "Fetching up to 100 news articles about 'war' for date 2025-04-09,2025-04-17...\n",
      "Found 100 articles for topic 'war' for date 2025-04-09,2025-04-17. Total available: 1361\n",
      "Fetching up to 100 news articles about 'war' for date 2025-04-09,2025-04-17...\n",
      "Found 100 articles for topic 'war' for date 2025-04-09,2025-04-17. Total available: 1361\n",
      "Fetching up to 100 news articles about 'war' for date 2025-04-09,2025-04-17...\n",
      "Found 100 articles for topic 'war' for date 2025-04-09,2025-04-17. Total available: 1361\n",
      "Reached maximum article limit (1000) for topic 'war'\n",
      "Total articles collected for 'war' so far: 1000\n",
      "Collected 1000 articles for topic 'war'\n",
      "Processing date range 2025-04-09 to 2025-04-17 for topic 'recession'\n",
      "Fetching up to 100 news articles about 'recession' for date 2025-04-09,2025-04-17...\n",
      "Found 100 articles for topic 'recession' for date 2025-04-09,2025-04-17. Total available: 188\n",
      "Fetching up to 100 news articles about 'recession' for date 2025-04-09,2025-04-17...\n",
      "Found 88 articles for topic 'recession' for date 2025-04-09,2025-04-17. Total available: 188\n",
      "Total articles collected for 'recession' so far: 188\n",
      "Collected 188 articles for topic 'recession'\n",
      "Processing date range 2025-04-09 to 2025-04-17 for topic 'taxes'\n",
      "Fetching up to 100 news articles about 'taxes' for date 2025-04-09,2025-04-17...\n",
      "Found 100 articles for topic 'taxes' for date 2025-04-09,2025-04-17. Total available: 680\n",
      "Fetching up to 100 news articles about 'taxes' for date 2025-04-09,2025-04-17...\n",
      "Found 100 articles for topic 'taxes' for date 2025-04-09,2025-04-17. Total available: 680\n",
      "Fetching up to 100 news articles about 'taxes' for date 2025-04-09,2025-04-17...\n",
      "Found 100 articles for topic 'taxes' for date 2025-04-09,2025-04-17. Total available: 680\n",
      "Fetching up to 100 news articles about 'taxes' for date 2025-04-09,2025-04-17...\n",
      "Found 100 articles for topic 'taxes' for date 2025-04-09,2025-04-17. Total available: 680\n",
      "Fetching up to 100 news articles about 'taxes' for date 2025-04-09,2025-04-17...\n",
      "Found 100 articles for topic 'taxes' for date 2025-04-09,2025-04-17. Total available: 680\n",
      "Fetching up to 100 news articles about 'taxes' for date 2025-04-09,2025-04-17...\n",
      "Found 100 articles for topic 'taxes' for date 2025-04-09,2025-04-17. Total available: 680\n",
      "Fetching up to 100 news articles about 'taxes' for date 2025-04-09,2025-04-17...\n",
      "Found 80 articles for topic 'taxes' for date 2025-04-09,2025-04-17. Total available: 680\n",
      "Total articles collected for 'taxes' so far: 680\n",
      "Collected 680 articles for topic 'taxes'\n",
      "Processing date range 2025-04-09 to 2025-04-17 for topic 'monetary policy'\n",
      "Fetching up to 100 news articles about 'monetary policy' for date 2025-04-09,2025-04-17...\n",
      "Found 28 articles for topic 'monetary policy' for date 2025-04-09,2025-04-17. Total available: 28\n",
      "Total articles collected for 'monetary policy' so far: 28\n",
      "Collected 28 articles for topic 'monetary policy'\n",
      "Processing date range 2025-04-09 to 2025-04-17 for topic 'geopolitical tensions'\n",
      "Fetching up to 100 news articles about 'geopolitical tensions' for date 2025-04-09,2025-04-17...\n",
      "Found 10 articles for topic 'geopolitical tensions' for date 2025-04-09,2025-04-17. Total available: 10\n",
      "Total articles collected for 'geopolitical tensions' so far: 10\n",
      "Collected 10 articles for topic 'geopolitical tensions'\n",
      "Processing date range 2025-04-09 to 2025-04-17 for topic 'inflation'\n",
      "Fetching up to 100 news articles about 'inflation' for date 2025-04-09,2025-04-17...\n",
      "Found 100 articles for topic 'inflation' for date 2025-04-09,2025-04-17. Total available: 337\n",
      "Fetching up to 100 news articles about 'inflation' for date 2025-04-09,2025-04-17...\n",
      "Found 100 articles for topic 'inflation' for date 2025-04-09,2025-04-17. Total available: 337\n",
      "Fetching up to 100 news articles about 'inflation' for date 2025-04-09,2025-04-17...\n",
      "Found 100 articles for topic 'inflation' for date 2025-04-09,2025-04-17. Total available: 337\n",
      "Fetching up to 100 news articles about 'inflation' for date 2025-04-09,2025-04-17...\n",
      "Found 37 articles for topic 'inflation' for date 2025-04-09,2025-04-17. Total available: 337\n",
      "Total articles collected for 'inflation' so far: 337\n",
      "Collected 337 articles for topic 'inflation'\n",
      "Processing date range 2025-04-09 to 2025-04-17 for topic 'global trade disputes'\n",
      "Fetching up to 100 news articles about 'global trade disputes' for date 2025-04-09,2025-04-17...\n",
      "Found 0 articles for topic 'global trade disputes' for date 2025-04-09,2025-04-17. Total available: 0\n",
      "No articles found for topic 'global trade disputes' in range 2025-04-09 to 2025-04-17 or API request failed.\n",
      "Collected 0 articles for topic 'global trade disputes'\n",
      "Processing date range 2025-04-09 to 2025-04-17 for topic 'natural disasters'\n",
      "Fetching up to 100 news articles about 'natural disasters' for date 2025-04-09,2025-04-17...\n",
      "Found 37 articles for topic 'natural disasters' for date 2025-04-09,2025-04-17. Total available: 37\n",
      "Total articles collected for 'natural disasters' so far: 37\n",
      "Collected 37 articles for topic 'natural disasters'\n",
      "Processing date range 2025-04-09 to 2025-04-17 for topic 'interest rates'\n",
      "Fetching up to 100 news articles about 'interest rates' for date 2025-04-09,2025-04-17...\n",
      "Found 100 articles for topic 'interest rates' for date 2025-04-09,2025-04-17. Total available: 150\n",
      "Fetching up to 100 news articles about 'interest rates' for date 2025-04-09,2025-04-17...\n",
      "Found 50 articles for topic 'interest rates' for date 2025-04-09,2025-04-17. Total available: 150\n",
      "Total articles collected for 'interest rates' so far: 150\n",
      "Collected 150 articles for topic 'interest rates'\n",
      "Processing date range 2025-04-09 to 2025-04-17 for topic 'federal reserve'\n",
      "Fetching up to 100 news articles about 'federal reserve' for date 2025-04-09,2025-04-17...\n",
      "Found 73 articles for topic 'federal reserve' for date 2025-04-09,2025-04-17. Total available: 73\n",
      "Total articles collected for 'federal reserve' so far: 73\n",
      "Collected 73 articles for topic 'federal reserve'\n",
      "Data successfully saved to data/vix_news_20250417_153829.csv\n",
      "Total articles saved: 2503\n",
      "Data collection complete. Collected 2503 articles across 10 topics.\n"
     ]
    }
   ],
   "source": [
    "downloader = mediastack_news.main()"
   ]
  },
  {
   "cell_type": "code",
   "execution_count": 3,
   "metadata": {},
   "outputs": [
    {
     "name": "stdout",
     "output_type": "stream",
     "text": [
      "Thoroughly cleaned file saved as clean_macro_4-10-25_to_17_news.csv\n"
     ]
    }
   ],
   "source": [
    "import csv\n",
    "import re\n",
    "import os\n",
    "\n",
    "# Paths\n",
    "input_file = './data/vix_news_20250417_153829.csv'\n",
    "output_file = 'clean_macro_4-10-25_to_17_news.csv'\n",
    "\n",
    "# Read the header first to know the column structure\n",
    "with open(input_file, 'r', encoding='utf-8') as infile:\n",
    "    reader = csv.reader(infile)\n",
    "    header = next(reader)\n",
    "\n",
    "with open(input_file, 'r', encoding='utf-8') as infile, open(output_file, 'w', newline='', encoding='utf-8') as outfile:\n",
    "    reader = csv.reader(infile)\n",
    "    writer = csv.writer(outfile, quoting=csv.QUOTE_MINIMAL)\n",
    "    \n",
    "    # Write the header\n",
    "    writer.writerow(header)\n",
    "    \n",
    "    # Skip the header row in the input\n",
    "    next(reader, None)\n",
    "    \n",
    "    # Process each row\n",
    "    for row in reader:\n",
    "        # Skip completely empty rows\n",
    "        if not any(row):\n",
    "            continue\n",
    "        \n",
    "        # Clean each field in the row\n",
    "        cleaned_row = []\n",
    "        for field in row:\n",
    "            # Clean strings thoroughly\n",
    "            if field:\n",
    "                # Replace tabs with spaces\n",
    "                field = field.replace('\\t', ' ')\n",
    "                # Replace all newlines with spaces\n",
    "                field = re.sub(r'[\\r\\n]+', ' ', field)\n",
    "                # Replace multiple spaces with a single space\n",
    "                field = re.sub(r'\\s+', ' ', field).strip()\n",
    "            cleaned_row.append(field)\n",
    "        \n",
    "        # Write the cleaned row\n",
    "        writer.writerow(cleaned_row)\n",
    "\n",
    "print(f\"Thoroughly cleaned file saved as {output_file}\")"
   ]
  },
  {
   "cell_type": "code",
   "execution_count": null,
   "metadata": {},
   "outputs": [],
   "source": []
  }
 ],
 "metadata": {
  "kernelspec": {
   "display_name": ".venv",
   "language": "python",
   "name": "python3"
  },
  "language_info": {
   "codemirror_mode": {
    "name": "ipython",
    "version": 3
   },
   "file_extension": ".py",
   "mimetype": "text/x-python",
   "name": "python",
   "nbconvert_exporter": "python",
   "pygments_lexer": "ipython3",
   "version": "3.13.2"
  }
 },
 "nbformat": 4,
 "nbformat_minor": 2
}
